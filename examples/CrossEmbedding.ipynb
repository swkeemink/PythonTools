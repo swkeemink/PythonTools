{
 "cells": [
  {
   "cell_type": "markdown",
   "metadata": {},
   "source": [
    "### Cross Embedding\n",
    "In this notebook I will test the idea of cross embedding."
   ]
  },
  {
   "cell_type": "code",
   "execution_count": null,
   "metadata": {},
   "outputs": [],
   "source": [
    "import numpy as np\n",
    "from swktools.plotting import plot3d\n",
    "import swktools.TakensEmbed as te\n",
    "import holoviews as hv\n",
    "import matplotlib.pyplot as plt\n",
    "from scipy.integrate import odeint\n",
    "from sklearn.neighbors import NearestNeighbors\n",
    "hv.extension('matplotlib','bokeh')\n",
    "colors= hv.core.options.Cycle.default_cycles['default_colors']\n"
   ]
  },
  {
   "cell_type": "code",
   "execution_count": null,
   "metadata": {},
   "outputs": [],
   "source": [
    "%%opts Curve {+axiswise}\n",
    "%%output backend='bokeh'\n",
    "# parameters\n",
    "rx = 3.8\n",
    "ry = 3.5\n",
    "bxy = .02\n",
    "byx = .1\n",
    "x1 = .4\n",
    "y1 = .2\n",
    "n = 3000\n",
    "poisson = False\n",
    "shift = False\n",
    "sol = np.zeros((n,2))\n",
    "\n",
    "sol[0,0] = x1\n",
    "sol[0,1] = y1\n",
    "\n",
    "for i in range(1,n):\n",
    "    sol[i,0] = sol[i-1,0]*(rx-rx*sol[i-1,0]-bxy*sol[i-1,1])\n",
    "    sol[i,1] = sol[i-1,1]*(ry-ry*sol[i-1,1]-byx*sol[i-1,0])\n",
    "\n",
    "if poisson:\n",
    "    measT = 100\n",
    "    sol = np.random.poisson(sol*measT)/measT\n",
    "if shift:\n",
    "    shift = 500\n",
    "    sol_shifted = np.zeros((n-shift, 2))\n",
    "    sol_shifted[:, 0] = sol[:-shift, 0]\n",
    "    sol_shifted[:, 1] = sol[shift:, 1]\n",
    "    sol = sol_shifted\n",
    "\n",
    "x = sol[:, 0]\n",
    "y = sol[:, 1]\n",
    "\n",
    "lorenzian = hv.Overlay([hv.Path(d) for d in zip(np.array_split(x, 1), np.array_split(y, 1))])\n",
    "lorenzian(style={'Path': dict(color=hv.Palette('Blues'), linewidth=1)})+hv.Curve(x)*hv.Curve(y)"
   ]
  },
  {
   "cell_type": "code",
   "execution_count": null,
   "metadata": {},
   "outputs": [],
   "source": [
    "%matplotlib nbagg\n",
    "tau = 1 # how many time steps to go back\n",
    "ndelay = 3 # how many dimensions to do for the delays\n",
    "delayed = te.get_delayed_manifold(sol, tau, ndelay)\n",
    "\n",
    "if ndelay == 3:\n",
    "    fig = plt.figure()\n",
    "    ntraj=20\n",
    "    ax = fig.add_subplot(131, projection='3d')\n",
    "    plot3d(delayed[0,::1,:], ntraj=ntraj, labels=['x(t)','x(t-tau)','x(t-2tau)'], ax=ax)\n",
    "    ax = fig.add_subplot(132, projection='3d')\n",
    "    plot3d(delayed[1,::1,:], ntraj=ntraj, labels=['y(t)','y(t-tau)','y(t-2tau)'], ax=ax)\n"
   ]
  },
  {
   "cell_type": "code",
   "execution_count": null,
   "metadata": {},
   "outputs": [],
   "source": [
    "%%output backend='bokeh'\n",
    "reload(te)\n",
    "cors = te.do_embedding(delayed, range(7, 2500, 40))\n",
    "\n",
    "hv.Curve(cors[0,1,:], label='y|Mx')*hv.Curve(cors[1,0,:],label='x|My')"
   ]
  },
  {
   "cell_type": "markdown",
   "metadata": {},
   "source": [
    "Randomized delay coordinates"
   ]
  },
  {
   "cell_type": "code",
   "execution_count": null,
   "metadata": {},
   "outputs": [],
   "source": [
    "%%output backend='bokeh'\n",
    "\n",
    "cors = te.do_embedding(delayed, range(7, 2500, 40), True)\n",
    "\n",
    "hv.Curve(cors[0,1,:], label='y|Mx')*hv.Curve(cors[1,0,:],label='x|My')"
   ]
  },
  {
   "cell_type": "markdown",
   "metadata": {},
   "source": [
    "### Do above for Lorentz attractor"
   ]
  },
  {
   "cell_type": "code",
   "execution_count": null,
   "metadata": {},
   "outputs": [],
   "source": [
    "%%output backend='bokeh' \n",
    "%%opts Curve {+axiswise}\n",
    "sigma = 10\n",
    "rho = 50\n",
    "beta = 8.0/3\n",
    "theta = 3 * np.pi / 4\n",
    "\n",
    "def lorenz(xyz, t):\n",
    "    x, y, z = xyz\n",
    "    x_dot = sigma * (y - x)\n",
    "    y_dot = x * rho - x * z - y\n",
    "    z_dot = x * y - beta* z\n",
    "    return [x_dot, y_dot, z_dot]\n",
    "\n",
    "initial = (-10, -7, 35)\n",
    "t = np.arange(0, 10, 0.006)\n",
    "N = len(t)\n",
    "solution = odeint(lorenz, initial, t)\n",
    "# solution = np.random.poisson((solution+40)*10)\n",
    "x = solution[:, 0]\n",
    "y = solution[:, 1]\n",
    "z = solution[:, 2]\n",
    "xprime = np.cos(theta) * x - np.sin(theta) * y\n",
    "\n",
    "lorenzian = hv.Overlay([hv.Path(d) for d in zip(np.array_split(xprime, 1), np.array_split(z, 1))])\n",
    "fig = lorenzian(style={'Path': dict(color=hv.Palette('Blues'), linewidth=1)})\n",
    "fig+= hv.Curve(x, label='x')*hv.Curve(y, label='y')*hv.Curve(z, label='z')\n",
    "fig"
   ]
  },
  {
   "cell_type": "code",
   "execution_count": null,
   "metadata": {},
   "outputs": [],
   "source": [
    "fig = plt.figure()\n",
    "ax = fig.add_subplot(111, projection='3d')\n",
    "plot3d(solution[::1,:], ntraj=1, ax=ax)"
   ]
  },
  {
   "cell_type": "markdown",
   "metadata": {},
   "source": [
    "### Do above in delay coordinates"
   ]
  },
  {
   "cell_type": "code",
   "execution_count": null,
   "metadata": {},
   "outputs": [],
   "source": [
    "tau = 10 # how many time steps to go back\n",
    "ndelay = 3 # how many dimensions to do for the delays\n",
    "delayed = te.get_delayed_manifold(solution, tau, ndelay)\n",
    "\n",
    "if ndelay == 3:\n",
    "    fig = plt.figure()\n",
    "    ntraj=20\n",
    "    ax = fig.add_subplot(131, projection='3d')\n",
    "    plot3d(delayed[0,::1,:], ntraj=ntraj, labels=['x(t)','x(t-tau)','x(t-2tau)'], ax=ax)\n",
    "    ax = fig.add_subplot(132, projection='3d')\n",
    "    plot3d(delayed[1,::1,:], ntraj=ntraj, labels=['y(t)','y(t-tau)','y(t-2tau)'], ax=ax)\n",
    "    ax = fig.add_subplot(133, projection='3d')\n",
    "    plot3d(delayed[2,::1,:], ntraj=ntraj, labels=['z(t)','z(t-tau)','z(t-2tau)'], ax=ax)\n"
   ]
  },
  {
   "cell_type": "markdown",
   "metadata": {},
   "source": [
    "### Do embedding stuff"
   ]
  },
  {
   "cell_type": "code",
   "execution_count": null,
   "metadata": {},
   "outputs": [],
   "source": [
    "%%output backend='bokeh'\n",
    "cors = te.do_embedding(delayed, range(20, 1000, 20))\n",
    "fig = hv.Curve(cors[0,1,:], label='y|Mx')*hv.Curve(cors[1,0,:], label='x|My')\n",
    "fig+= hv.Curve(cors[0,2,:], label='z|Mx')*hv.Curve(cors[2,0,:], label='x|Mz')\n",
    "fig+= hv.Curve(cors[1,2,:], label='z|My')*hv.Curve(cors[2,1,:], label='y|Mz')\n",
    "fig"
   ]
  },
  {
   "cell_type": "markdown",
   "metadata": {},
   "source": [
    "With randomized coordinates"
   ]
  },
  {
   "cell_type": "code",
   "execution_count": null,
   "metadata": {},
   "outputs": [],
   "source": [
    "%%output backend='bokeh'\n",
    "cors = te.do_embedding(delayed, range(20, 1000, 20),True)\n",
    "fig = hv.Curve(cors[0,1,:], label='y|Mx')*hv.Curve(cors[1,0,:], label='x|My')\n",
    "fig+= hv.Curve(cors[0,2,:], label='z|Mx')*hv.Curve(cors[2,0,:], label='x|Mz')\n",
    "fig+= hv.Curve(cors[1,2,:], label='z|My')*hv.Curve(cors[2,1,:], label='y|Mz')\n",
    "fig"
   ]
  },
  {
   "cell_type": "code",
   "execution_count": null,
   "metadata": {},
   "outputs": [],
   "source": []
  }
 ],
 "metadata": {
  "kernelspec": {
   "display_name": "Python 2",
   "language": "python",
   "name": "python2"
  },
  "language_info": {
   "codemirror_mode": {
    "name": "ipython",
    "version": 2
   },
   "file_extension": ".py",
   "mimetype": "text/x-python",
   "name": "python",
   "nbconvert_exporter": "python",
   "pygments_lexer": "ipython2",
   "version": "2.7.14"
  }
 },
 "nbformat": 4,
 "nbformat_minor": 2
}
